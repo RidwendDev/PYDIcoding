{
 "cells": [
  {
   "cell_type": "markdown",
   "metadata": {},
   "source": [
    "# TRY EXC MA BRO 🔥"
   ]
  },
  {
   "cell_type": "code",
   "execution_count": 2,
   "metadata": {},
   "outputs": [
    {
     "ename": "ZeroDivisionError",
     "evalue": "division by zero",
     "output_type": "error",
     "traceback": [
      "\u001b[1;31m---------------------------------------------------------------------------\u001b[0m",
      "\u001b[1;31mZeroDivisionError\u001b[0m                         Traceback (most recent call last)",
      "\u001b[1;32md:\\PYDIcoding\\excHandling.ipynb Cell 2\u001b[0m in \u001b[0;36m<cell line: 3>\u001b[1;34m()\u001b[0m\n\u001b[0;32m      <a href='vscode-notebook-cell:/d%3A/PYDIcoding/excHandling.ipynb#W2sZmlsZQ%3D%3D?line=0'>1</a>\u001b[0m \u001b[39m# misal casenya jika kita membagi suatu angka dengan 0\u001b[39;00m\n\u001b[0;32m      <a href='vscode-notebook-cell:/d%3A/PYDIcoding/excHandling.ipynb#W2sZmlsZQ%3D%3D?line=1'>2</a>\u001b[0m z \u001b[39m=\u001b[39m \u001b[39m0\u001b[39m\n\u001b[1;32m----> <a href='vscode-notebook-cell:/d%3A/PYDIcoding/excHandling.ipynb#W2sZmlsZQ%3D%3D?line=2'>3</a>\u001b[0m \u001b[39m1\u001b[39;49m\u001b[39m/\u001b[39;49mz\n",
      "\u001b[1;31mZeroDivisionError\u001b[0m: division by zero"
     ]
    }
   ],
   "source": [
    "# misal casenya jika kita membagi suatu angka dengan 0\n",
    "z = 0\n",
    "1/z"
   ]
  },
  {
   "cell_type": "code",
   "execution_count": 3,
   "metadata": {},
   "outputs": [
    {
     "name": "stdout",
     "output_type": "stream",
     "text": [
      "tidak bisa kita membagi suatu angka dengan nol\n"
     ]
    }
   ],
   "source": [
    "# bagaimana kita dapt solvenya? \n",
    "x =  0\n",
    "try:\n",
    "    sesuatu = 1/x\n",
    "    print(sesuatu)\n",
    "except ZeroDivisionError:\n",
    "    print('tidak bisa kita membagi suatu angka dengan nol')"
   ]
  },
  {
   "cell_type": "code",
   "execution_count": null,
   "metadata": {},
   "outputs": [],
   "source": [
    "try:\n",
    "    pass # ganti dg pernyataan yg mungkin terjadi pengecualian\n",
    "except:\n",
    "    pass # ganti dg pernyataan dioperasikan terjadi pengecualian\n",
    "else:\n",
    "    pass # ganti dg pernyataan dioperasikan jika tidak terjadi pengecualian\n",
    "finally:\n",
    "    pass # gantikan perny. dipoperasikan stlah smua perny. diatas terjadi"
   ]
  },
  {
   "cell_type": "code",
   "execution_count": 10,
   "metadata": {},
   "outputs": [
    {
     "name": "stdout",
     "output_type": "stream",
     "text": [
      "nilai ataupun tipe tidak sesuai\n"
     ]
    }
   ],
   "source": [
    " d = {'ratarata': '10.0'}\n",
    "try:\n",
    "    print('rata-rata: {}'.format(d['ratarata']/10))\n",
    "except KeyError:\n",
    "    print('key tidak ditemukan dlm dictionary')\n",
    "except (ValueError, TypeError):\n",
    "    print('nilai ataupun tipe tidak sesuai')"
   ]
  }
 ],
 "metadata": {
  "kernelspec": {
   "display_name": "Python 3.8.5",
   "language": "python",
   "name": "python3"
  },
  "language_info": {
   "codemirror_mode": {
    "name": "ipython",
    "version": 3
   },
   "file_extension": ".py",
   "mimetype": "text/x-python",
   "name": "python",
   "nbconvert_exporter": "python",
   "pygments_lexer": "ipython3",
   "version": "3.8.5"
  },
  "orig_nbformat": 4,
  "vscode": {
   "interpreter": {
    "hash": "dc07d24e2f18896857f0b2a651fe84ba40ce7b297e58d8804a308c8039f752a6"
   }
  }
 },
 "nbformat": 4,
 "nbformat_minor": 2
}
