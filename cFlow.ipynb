{
 "cells": [
  {
   "cell_type": "markdown",
   "metadata": {},
   "source": [
    "# EZZ DULU MASALAH PERCABANGAN 🛵"
   ]
  },
  {
   "cell_type": "code",
   "execution_count": 1,
   "metadata": {},
   "outputs": [
    {
     "name": "stdout",
     "output_type": "stream",
     "text": [
      "skutt kita beli ni barang\n"
     ]
    }
   ],
   "source": [
    "hargaVespa = '10 juta'\n",
    "if (hargaVespa=='10 juta'):\n",
    "    print('skutt kita beli ni barang')\n",
    "else:\n",
    "    print('G dlu mau beli pajero!')"
   ]
  },
  {
   "cell_type": "code",
   "execution_count": 2,
   "metadata": {},
   "outputs": [
    {
     "name": "stdout",
     "output_type": "stream",
     "text": [
      "bilangan yg anda masukan bukan bilangan kelipatan 3\n"
     ]
    }
   ],
   "source": [
    "bilangan = int(input('Masukkan bilangan yg anda sukai: '))\n",
    "if bilangan % 3 == 0:\n",
    "    print('bilangan yg anda masukan adalah kelipatan 3')\n",
    "else:\n",
    "    print('bilangan yg anda masukan bukan bilangan kelipatan 3')\n"
   ]
  },
  {
   "cell_type": "markdown",
   "metadata": {},
   "source": [
    "### Pengaplikasian if-elif-else dalam khidupan 🚦"
   ]
  },
  {
   "cell_type": "code",
   "execution_count": 9,
   "metadata": {},
   "outputs": [
    {
     "name": "stdout",
     "output_type": "stream",
     "text": [
      "Silahkan anda boleh jalan...🤗\n"
     ]
    }
   ],
   "source": [
    "warnaLampu = input('Sekarang lampu berwarna: ')\n",
    "if ((warnaLampu == 'red')|(warnaLampu =='merah')):\n",
    "    print('Berhenti!!! Jangan nyelonong woee 😡')\n",
    "elif ((warnaLampu == 'yellow')|(warnaLampu =='kuning')):\n",
    "    print('Hati-hati jangan ngegas bosque')\n",
    "elif ((warnaLampu == 'green')|(warnaLampu=='hijau')):\n",
    "    print('Silahkan anda boleh jalan...🤗')\n",
    "else:\n",
    "    print('Anda ga lg di trrafic light, ndausah jawab ')"
   ]
  },
  {
   "cell_type": "markdown",
   "metadata": {},
   "source": [
    "### TERNARY OPERATIONS"
   ]
  },
  {
   "cell_type": "code",
   "execution_count": 11,
   "metadata": {},
   "outputs": [
    {
     "name": "stdout",
     "output_type": "stream",
     "text": [
      "selamat ya kamu..\n"
     ]
    }
   ],
   "source": [
    "# misal ada case percabangan spt ini\n",
    "lulus = True\n",
    "if lulus:\n",
    "    print('selamat ya kamu..')\n",
    "else:\n",
    "    print('gapapa perbaiki lagi masih banyak waktu')\n",
    "\n",
    "# itu bisa jadi spt ini :\n",
    "'''lulus = True\n",
    "kata= (\"perbaiki\", \"selamat\")[lulus] '''"
   ]
  },
  {
   "cell_type": "markdown",
   "metadata": {},
   "source": [
    "### LOOP2AN"
   ]
  },
  {
   "cell_type": "code",
   "execution_count": 17,
   "metadata": {},
   "outputs": [
    {
     "name": "stdout",
     "output_type": "stream",
     "text": [
      "huruf : S\n",
      "huruf : u\n",
      "huruf : m\n",
      "huruf : o\n"
     ]
    }
   ],
   "source": [
    "# Batebuk aja mau buat apa mecah str misal\n",
    "for i in 'Sumo':\n",
    "    print(f'huruf : {i}')"
   ]
  },
  {
   "cell_type": "code",
   "execution_count": 19,
   "metadata": {},
   "outputs": [
    {
     "name": "stdout",
     "output_type": "stream",
     "text": [
      "Hewan yang ada di tempat kami antara lain: sapi\n",
      "Hewan yang ada di tempat kami antara lain: kuda\n",
      "Hewan yang ada di tempat kami antara lain: ayam\n"
     ]
    }
   ],
   "source": [
    "# mecah index di list\n",
    "hewanTernak = ['sapi','kuda','ayam']\n",
    "for i in range(len(hewanTernak)):\n",
    "    print(f'Hewan yang ada di tempat kami antara lain: {hewanTernak[i]}') "
   ]
  },
  {
   "cell_type": "code",
   "execution_count": 20,
   "metadata": {},
   "outputs": [
    {
     "name": "stdout",
     "output_type": "stream",
     "text": [
      "iwang ganteng\n",
      "iwang ganteng\n",
      "iwang ganteng\n",
      "iwang ganteng\n",
      "iwang ganteng\n",
      "iwang ganteng\n",
      "iwang ganteng\n",
      "iwang ganteng\n",
      "iwang ganteng\n",
      "iwang ganteng\n",
      "iwang ganteng\n",
      "iwang ganteng\n",
      "iwang ganteng\n",
      "iwang ganteng\n",
      "iwang ganteng\n"
     ]
    }
   ],
   "source": [
    "# ngeprint iwang ganteng smpe 15 kali dg kearifan lokal\n",
    "print('iwang ganteng')\n",
    "print('iwang ganteng')\n",
    "print('iwang ganteng')\n",
    "print('iwang ganteng')\n",
    "print('iwang ganteng')\n",
    "print('iwang ganteng')\n",
    "print('iwang ganteng')\n",
    "print('iwang ganteng')\n",
    "print('iwang ganteng')\n",
    "print('iwang ganteng')\n",
    "print('iwang ganteng')\n",
    "print('iwang ganteng')\n",
    "print('iwang ganteng')\n",
    "print('iwang ganteng')\n",
    "print('iwang ganteng')\n",
    "# DRY itu namanya"
   ]
  },
  {
   "cell_type": "code",
   "execution_count": 21,
   "metadata": {},
   "outputs": [
    {
     "name": "stdout",
     "output_type": "stream",
     "text": [
      "iwang ganteng\n",
      "iwang ganteng\n",
      "iwang ganteng\n",
      "iwang ganteng\n",
      "iwang ganteng\n",
      "iwang ganteng\n",
      "iwang ganteng\n",
      "iwang ganteng\n",
      "iwang ganteng\n",
      "iwang ganteng\n",
      "iwang ganteng\n",
      "iwang ganteng\n",
      "iwang ganteng\n",
      "iwang ganteng\n",
      "iwang ganteng\n",
      "iwang ganteng\n"
     ]
    }
   ],
   "source": [
    "# bagaimana dg while\n",
    "# buat start \n",
    "i = 0\n",
    "# lakukan perulangan\n",
    "while(i<16):\n",
    "    print('iwang ganteng')\n",
    "    i +=1"
   ]
  },
  {
   "cell_type": "markdown",
   "metadata": {},
   "source": [
    "### Perulangan bertingkat 🧩"
   ]
  },
  {
   "cell_type": "code",
   "execution_count": 37,
   "metadata": {},
   "outputs": [
    {
     "name": "stdout",
     "output_type": "stream",
     "text": [
      "######\n",
      "#####\n",
      "####\n",
      "###\n",
      "##\n",
      "#\n",
      "APA YANG MELEWATKANKU TIDAK AKAN PERNAH MENJADI TAKDIRKU\n",
      "DAN APA YANG TELAH DITAKDIRKAN UNTUKKU TIDAK AKAN PERNAH MELEWATKANKU!\n",
      "\n",
      "#\n",
      "##\n",
      "###\n",
      "####\n",
      "#####\n"
     ]
    }
   ],
   "source": [
    "for i in range(0,6):\n",
    "    for j in range(0,6-i):\n",
    "        # buat pagar kita bos\n",
    "        print('#',end='')\n",
    "    print()\n",
    "print('''APA YANG MELEWATKANKU TIDAK AKAN PERNAH MENJADI TAKDIRKU\n",
    "DAN APA YANG TELAH DITAKDIRKAN UNTUKKU TIDAK AKAN PERNAH MELEWATKANKU!''')\n",
    "for x in range(0,6):\n",
    "    for y in range(0,0+x):\n",
    "        # buat pagar kita bos\n",
    "        print('#',end='')\n",
    "    print()"
   ]
  },
  {
   "cell_type": "code",
   "execution_count": 40,
   "metadata": {},
   "outputs": [
    {
     "name": "stdout",
     "output_type": "stream",
     "text": [
      "⚽ 🏆 🏆 🏆 🏆 \n",
      "⚽ ⚽ 🏆 🏆 🏆 \n",
      "⚽ ⚽ ⚽ 🏆 🏆 \n",
      "⚽ ⚽ ⚽ ⚽ 🏆 \n",
      "⚽ ⚽ ⚽ ⚽ ⚽ \n",
      "⚽ ⚽ ⚽ ⚽ ⚽ \n",
      "⚽ ⚽ ⚽ ⚽ ⚽ \n",
      "⚽ ⚽ ⚽ ⚽ ⚽ \n"
     ]
    }
   ],
   "source": [
    "# 1 lagi biar seru\n",
    "maxBaris = 8\n",
    "maxKolom = 5\n",
    "\n",
    "baris = 0\n",
    "while baris < maxBaris:\n",
    "    kolom = 0\n",
    "    while kolom < maxKolom:\n",
    "        print('⚽' if kolom <= baris else '🏆', end = ' ')\n",
    "        kolom += 1\n",
    "    else:\n",
    "        print('')\n",
    "        baris += 1"
   ]
  }
 ],
 "metadata": {
  "kernelspec": {
   "display_name": "Python 3.9.1 64-bit",
   "language": "python",
   "name": "python3"
  },
  "language_info": {
   "codemirror_mode": {
    "name": "ipython",
    "version": 3
   },
   "file_extension": ".py",
   "mimetype": "text/x-python",
   "name": "python",
   "nbconvert_exporter": "python",
   "pygments_lexer": "ipython3",
   "version": "3.9.1"
  },
  "orig_nbformat": 4,
  "vscode": {
   "interpreter": {
    "hash": "f6246b25e200e4c5124e3e61789ac81350562f0761bbcf92ad9e48654207659c"
   }
  }
 },
 "nbformat": 4,
 "nbformat_minor": 2
}
